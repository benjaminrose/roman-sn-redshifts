{
 "cells": [
  {
   "cell_type": "code",
   "execution_count": null,
   "id": "royal-universe",
   "metadata": {},
   "outputs": [],
   "source": [
    "import os\n",
    "import sys\n",
    "import specplot\n",
    "import matplotlib.pyplot as plt\n",
    "import numpy as np\n",
    "import glob\n",
    "from astropy.table import Table\n",
    "from astropy.io import fits"
   ]
  },
  {
   "cell_type": "code",
   "execution_count": null,
   "id": "quiet-madness",
   "metadata": {},
   "outputs": [],
   "source": [
    "EAZY_FLAM_SCALE = 1.55E-30 # 3.63078E-30 #?\n",
    "fname_test = 'hlsp_candels_hst_wfc3_cos-tot-multiband_f160w_v1-1photom_sfr_mass_specbasiscoeffs_cat_20210430a.fits'\n",
    "fname_templates = 'eazy_13_spectral_templates.dat'\n",
    "template_data = specplot.load_eazypy_templates(os.path.join('data',fname_templates))\n",
    "test_set_data = Table.read(os.path.join('data',fname_test),format='fits')\n",
    "\n",
    "def get_eazy_template(hostgalID):\n",
    "    basis_cols = [ x for x in test_set_data.colnames if 'SPECBASIS' in x]\n",
    "    test_set_ind = np.where(test_set_data['pind'] == hostgalID)[0][0]\n",
    "    eazycoeffs = [test_set_data[test_set_ind][x] for x in basis_cols]\n",
    "\n",
    "    return(specplot.simulate_eazy_sed_from_coeffs(eazycoeffs, template_data, \n",
    "                                                  test_set_data[0]['redshift']))\n",
    "\n",
    "def get_snana_spec_ascii(snana_fname_ascii):\n",
    "    with open(snana_fname_ascii,'r') as f:\n",
    "        text = f.readlines()\n",
    "    data_lines = []\n",
    "    for line in text:\n",
    "        if 'SIM_HOSTLIB_GALID' in line:\n",
    "            galid = int(line.split()[-1])\n",
    "        elif 'VARNAMES_SPEC' in line:\n",
    "            colnames = line.split()[1:]\n",
    "        elif len(line.split()) > 0 and line.split()[0] == 'SPEC:':\n",
    "            data_lines.append([float(x) for x in line.split()[1:]])\n",
    "\n",
    "    snana_data_table = Table(np.array(data_lines).astype(float),names=colnames)\n",
    "    snana_data_table['WAVE'] = np.mean([snana_data_table['LAMMIN'],\n",
    "                                          snana_data_table['LAMMAX']],axis=0)\n",
    "    if len(snana_data_table)<2:\n",
    "        return None\n",
    "    return galid, snana_data_table\n",
    "\n",
    "def get_snana_spec_marz(snana_fname_marz):\n",
    "    FLAM_SCALE = shallow_marz_file[0].header['HIERARCH FLAM_SCALE']\n",
    "    marz_file = fits.open(snana_fname_marz)\n",
    "    marz_wave = marz_file[2].data\n",
    "    marz_flux = shallow_marz_file[0].data\n",
    "    print('Cannot yet get hostgal id from marz file, stopping...')\n",
    "    sys.exit()\n",
    "    \n",
    "def plot_snana_eazy_comp(snana_file_list,num_plots='all',saveplot_root=None):\n",
    "    if num_plots == 'all':\n",
    "        num_plots = len(snana_file_list)\n",
    "    for file_ind in range(num_plots):\n",
    "        snana_file = snana_file_list[file_ind]\n",
    "        hostgal_id, snana_spec = get_snana_spec_ascii(snana_file)\n",
    "        snana_wave, snana_flux = snana_spec['WAVE'], snana_spec['FLAM']\n",
    "        eazy_wave, eazy_flux = get_eazy_template(hostgal_id)\n",
    "        fig = plt.figure(figsize=(4,4))\n",
    "        ax = fig.gca()\n",
    "        ax.plot(snana_wave,snana_flux,linewidth=1,color='k',label='SNANA SIM')\n",
    "        ax.plot(eazy_wave,eazy_flux*EAZY_FLAM_SCALE,linewidth=1,color='r',label='EAZY Template')\n",
    "        ax.set_ylim((0,5*np.median(snana_flux)))\n",
    "        ax.legend()\n",
    "        ax.set_xlabel('Wavelength ($\\AA$)')\n",
    "        ax.set_ylabel(r'$\\rm{Flux (erg/s/}cm^2/\\AA$)')\n",
    "        if saveplot_root is not None:\n",
    "            plt.savefig(saveplot_root+'_%i.pdf'%hostgal_id,format='pdf')\n",
    "        plt.show()"
   ]
  },
  {
   "cell_type": "code",
   "execution_count": null,
   "id": "worldwide-consultancy",
   "metadata": {},
   "outputs": [],
   "source": [
    "PATH_TO_SNANA_SIM_FOLDER = os.path.join('/Volumes','Justin_Pierel_SSD',\n",
    "                                        'Data','roman_spec_sims')\n",
    "SIM_FOLDER_NAME = 'Prism_shallow_hostIa'\n",
    "shallow_spec_files = glob.glob(os.path.join(PATH_TO_SNANA_SIM_FOLDER,SIM_FOLDER_NAME,'*.DAT'))\n",
    "plot_snana_eazy_comp(shallow_spec_files, num_plots=2, saveplot_root=SIM_FOLDER_NAME)\n",
    "    \n"
   ]
  },
  {
   "cell_type": "code",
   "execution_count": null,
   "id": "verbal-lafayette",
   "metadata": {},
   "outputs": [],
   "source": []
  }
 ],
 "metadata": {
  "kernelspec": {
   "display_name": "Python 3",
   "language": "python",
   "name": "python3"
  },
  "language_info": {
   "codemirror_mode": {
    "name": "ipython",
    "version": 3
   },
   "file_extension": ".py",
   "mimetype": "text/x-python",
   "name": "python",
   "nbconvert_exporter": "python",
   "pygments_lexer": "ipython3",
   "version": "3.8.5"
  }
 },
 "nbformat": 4,
 "nbformat_minor": 5
}
